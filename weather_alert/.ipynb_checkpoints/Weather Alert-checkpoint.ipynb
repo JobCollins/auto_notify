{
 "cells": [
  {
   "cell_type": "code",
   "execution_count": 1,
   "metadata": {},
   "outputs": [],
   "source": [
    "import pymongo\n",
    "import configuration as config\n",
    "import requests\n",
    "import threading\n",
    "import os\n",
    "import time\n",
    "from datetime import datetime\n",
    "import shutil\n",
    "import json\n",
    "import matplotlib\n",
    "matplotlib.use('Agg')\n",
    "import matplotlib.pyplot as plt\n",
    "import httplib2\n",
    "import folium\n",
    "import pandas as pd\n",
    "import seaborn as sns\n",
    "from geopy.geocoders import Nominatim\n",
    "geolocator = Nominatim(user_agent=\"Weather Forecast App\")"
   ]
  },
  {
   "cell_type": "code",
   "execution_count": 2,
   "metadata": {},
   "outputs": [],
   "source": [
    "# settings for the open weather map api and folium map\n",
    "api_key = \"a2a25896f98228a2a6f00c6a34c2db61\"\n",
    "api_endpoint = \"http://api.openweathermap.org/\""
   ]
  },
  {
   "cell_type": "code",
   "execution_count": 3,
   "metadata": {},
   "outputs": [],
   "source": [
    "# initialize httplib for http requests\n",
    "http_initializer = httplib2.Http()"
   ]
  },
  {
   "cell_type": "code",
   "execution_count": 4,
   "metadata": {},
   "outputs": [
    {
     "name": "stdout",
     "output_type": "stream",
     "text": [
      "['Nairobi', 'Kampala', 'London', 'Utah']\n"
     ]
    }
   ],
   "source": [
    "temperature_threshold = 10\n",
    "\n",
    "# get city names for which we are getting forecast data from the configuration file\n",
    "city_names = config.locations\n",
    "print(city_names)"
   ]
  },
  {
   "cell_type": "code",
   "execution_count": 5,
   "metadata": {},
   "outputs": [],
   "source": [
    "# refresh and download frequency\n",
    "refresh_frequency = config.refresh_frequency"
   ]
  },
  {
   "cell_type": "code",
   "execution_count": 6,
   "metadata": {},
   "outputs": [],
   "source": [
    "# thread to download 5 days / 3 hour forecast. Also show alert if there is rain or low temperatures (<10 farenheit) in any of forecast period\n",
    "def thread_for_5_days_3_hour_forecast():\n",
    "    '''\n",
    "    This function downloads the 5 days 3 hour separated data and store it in\n",
    "    the mongodb database making timestamp as primary ke, thus preventing duplicates\n",
    "    '''\n",
    "    \n",
    "    # initialize mongodb client running on localhost\n",
    "    client = pymongo.MongoClient('mongodb://localhost:27017/')\n",
    "    \n",
    "    # dictionary to store the alerts for rain and low temperatures\n",
    "    alerts = {\"rain\":[], \"low_temperature\":[]}\n",
    "    \n",
    "    # create a collection(table) for each city to store data w.r.t. city\n",
    "    for city in city_names:\n",
    "        url = api_endpoint+\"/data/2.5/forecast?q=\"+city+\"&appid=\"+api_key\n",
    "        http_initializer = httplib2.Http()\n",
    "        response, content = http_initializer.request(url, 'GET')\n",
    "        utf_decoded_content = content.decode('utf-8')\n",
    "        json_object = json.loads(utf_decoded_content)\n",
    "        \n",
    "        # create mongodb database\n",
    "        db = client.weather_data\n",
    "\n",
    "        # putting openweathermap api data in database, with timestamp as pk\n",
    "        for element in json_object[\"list\"]:\n",
    "            try:\n",
    "                datetime = element['dt']\n",
    "                del element['dt']\n",
    "                db['{}'.format(city)].insert_one({'_id':datetime, \"data\":element})\n",
    "            except pymongo.errors.DuplicateKeyError:\n",
    "                continue\n",
    "\n",
    "        # store the alerts based on conditions\n",
    "        for a in db['{}'.format(city)].find({}):\n",
    "            # Convert temperature to Fahrenheit\n",
    "            temperature = (float(a[\"data\"][\"main\"][\"temp\"]) - 273.15)*(9/5)+32\n",
    "            if temperature<temperature_threshold:\n",
    "                alerts[\"low_temperature\"].append(\"Low temperature \"+ temperature + \" in \"+ city + \" on \"+str(a[\"data\"][\"dt_txt\"]).split(\" \")[0]+\" at \"+str(a[\"data\"][\"dt_txt\"]).split(\" \")[1])\n",
    "            elif a[\"data\"][\"weather\"][0][\"main\"]==\"Rain\":\n",
    "                alerts[\"rain\"].append(\"Rain expected in \"+city+\" on \"+str(a[\"data\"][\"dt_txt\"]).split(\" \")[0]+\" at \"+str(a[\"data\"][\"dt_txt\"]).split(\" \")[1])\n",
    "                \n",
    "    print(\"*******************WEATHER ALERTS************\")\n",
    "    if len(alerts[\"low_temperature\"]) > 0:\n",
    "        for i in alerts[\"low_temperature\"]:\n",
    "            print(i)\n",
    "            \n",
    "    if len(alerts[\"rain\"]) > 0:\n",
    "        for i in alerts[\"rain\"]:\n",
    "            print(i)\n",
    "            \n",
    "         \n",
    "    "
   ]
  },
  {
   "cell_type": "code",
   "execution_count": 7,
   "metadata": {},
   "outputs": [],
   "source": [
    "# thread for plotting forecast data\n",
    "def thread_for_plotting_forecast_data():\n",
    "    '''\n",
    "    This function plotsthe forecast history for each city by taking all\n",
    "    its weather data from database and save the plot in a folder\n",
    "    '''\n",
    "    \n",
    "    temperature_data_timestamps = []\n",
    "    temperatures = {}\n",
    "    date_times = []\n",
    "    first_time=True\n",
    "    \n",
    "    # initialize mongodb client running on localhost\n",
    "    client = pymongo.MongoClient('mongodb://localhost:27017/')\n",
    "    \n",
    "    for city in city_names:\n",
    "        temperature[city] = []\n",
    "    # get temperature data wrt date abd time from db\n",
    "    with client:\n",
    "        db = client.weather_data\n",
    "        for city in city_names:\n",
    "            data = db['{}'.format(city)].find({})\n",
    "            for record in data:\n",
    "                temperatures[city].append(record[\"data\"][\"main\"][\"temp\"])\n",
    "                if first_time:\n",
    "                    date_times.append(record[\"data\"][\"dt_txt\"])\n",
    "            first_time=False\n",
    "            \n",
    "    # plot weather forecast for each city\n",
    "    for city in city_names:\n",
    "        plt.figure(figsize=(16,16))\n",
    "        plt.xticks(rotation=90,fontsize=10)\n",
    "        plt.title(\"Temperature forecast for \"+str(city),fontsize=20)\n",
    "        plt.xlabel(\"Date and Time\",fontsize=12)\n",
    "        plt.ylabel(\"Temperature (F)\",fontsize=12)\n",
    "        sns.lineplot(date_times, temperatures[city],zorder=2)\n",
    "        plt.close()"
   ]
  },
  {
   "cell_type": "code",
   "execution_count": null,
   "metadata": {},
   "outputs": [],
   "source": [
    "locations = {}\n",
    "\n",
    "# get the latitude and longitude of cities for which we want to forecast weather\n",
    "for city in city_names:\n",
    "    locations[city] = geolocator.geocode(city)\n",
    "    \n",
    "while 1:\n",
    "    try:\n",
    "        t1 = threading.Thread(target = lambda : thread_for_5_days_3_hour_forecast(), name='t1')\n",
    "        t1.setDaemon(True)\n",
    "        t2 = threading.Thread(target = lambda : thread_for_plotting_forecast_data(), name ='t4')\n",
    "        t2.setDaemon(True)\n",
    "        \n",
    "        t1.start()\n",
    "        t1.join()\n",
    "        t2.start()\n",
    "        t2.join()\n",
    "        time.sleep(refresh_frequency)\n",
    "        \n",
    "    except Exception as e:\n",
    "        print(e)"
   ]
  }
 ],
 "metadata": {
  "kernelspec": {
   "display_name": "Python 3",
   "language": "python",
   "name": "python3"
  },
  "language_info": {
   "codemirror_mode": {
    "name": "ipython",
    "version": 3
   },
   "file_extension": ".py",
   "mimetype": "text/x-python",
   "name": "python",
   "nbconvert_exporter": "python",
   "pygments_lexer": "ipython3",
   "version": "3.8.3"
  }
 },
 "nbformat": 4,
 "nbformat_minor": 4
}
